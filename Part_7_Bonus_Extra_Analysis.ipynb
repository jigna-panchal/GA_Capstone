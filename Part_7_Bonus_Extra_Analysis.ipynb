{
 "cells": [
  {
   "cell_type": "markdown",
   "metadata": {},
   "source": [
    "## Can we determine who was the most central character?"
   ]
  },
  {
   "cell_type": "code",
   "execution_count": 2,
   "metadata": {},
   "outputs": [],
   "source": [
    "import pandas as pd"
   ]
  },
  {
   "cell_type": "code",
   "execution_count": 3,
   "metadata": {},
   "outputs": [],
   "source": [
    "df = pd.read_csv('friends_transcripts_clean.csv')"
   ]
  },
  {
   "cell_type": "code",
   "execution_count": 4,
   "metadata": {},
   "outputs": [
    {
     "data": {
      "text/html": [
       "<div>\n",
       "<style scoped>\n",
       "    .dataframe tbody tr th:only-of-type {\n",
       "        vertical-align: middle;\n",
       "    }\n",
       "\n",
       "    .dataframe tbody tr th {\n",
       "        vertical-align: top;\n",
       "    }\n",
       "\n",
       "    .dataframe thead th {\n",
       "        text-align: right;\n",
       "    }\n",
       "</style>\n",
       "<table border=\"1\" class=\"dataframe\">\n",
       "  <thead>\n",
       "    <tr style=\"text-align: right;\">\n",
       "      <th></th>\n",
       "      <th>Unnamed: 0</th>\n",
       "      <th>Season</th>\n",
       "      <th>Episode</th>\n",
       "      <th>Title</th>\n",
       "      <th>Character</th>\n",
       "      <th>Line</th>\n",
       "      <th>Clean_Lines</th>\n",
       "    </tr>\n",
       "  </thead>\n",
       "  <tbody>\n",
       "    <tr>\n",
       "      <th>0</th>\n",
       "      <td>0</td>\n",
       "      <td>1</td>\n",
       "      <td>101</td>\n",
       "      <td>The One Where Monica Gets a New Roomate (The P...</td>\n",
       "      <td>Monica</td>\n",
       "      <td>There's nothing to tell! He's just some guy I...</td>\n",
       "      <td>There's nothing to tell! He's just some guy I...</td>\n",
       "    </tr>\n",
       "    <tr>\n",
       "      <th>1</th>\n",
       "      <td>1</td>\n",
       "      <td>1</td>\n",
       "      <td>101</td>\n",
       "      <td>The One Where Monica Gets a New Roomate (The P...</td>\n",
       "      <td>Joey</td>\n",
       "      <td>C'mon, you're going out with the guy! There's...</td>\n",
       "      <td>C'mon, you're going out with the guy! There's...</td>\n",
       "    </tr>\n",
       "    <tr>\n",
       "      <th>2</th>\n",
       "      <td>2</td>\n",
       "      <td>1</td>\n",
       "      <td>101</td>\n",
       "      <td>The One Where Monica Gets a New Roomate (The P...</td>\n",
       "      <td>Chandler</td>\n",
       "      <td>All right Joey, be nice.  So does he have a h...</td>\n",
       "      <td>All right Joey, be nice.  So does he have a h...</td>\n",
       "    </tr>\n",
       "    <tr>\n",
       "      <th>3</th>\n",
       "      <td>3</td>\n",
       "      <td>1</td>\n",
       "      <td>101</td>\n",
       "      <td>The One Where Monica Gets a New Roomate (The P...</td>\n",
       "      <td>Phoebe</td>\n",
       "      <td>Wait, does he eat chalk?</td>\n",
       "      <td>Wait, does he eat chalk?</td>\n",
       "    </tr>\n",
       "    <tr>\n",
       "      <th>4</th>\n",
       "      <td>4</td>\n",
       "      <td>1</td>\n",
       "      <td>101</td>\n",
       "      <td>The One Where Monica Gets a New Roomate (The P...</td>\n",
       "      <td>Phoebe</td>\n",
       "      <td>Just, 'cause, I don't want her to go through ...</td>\n",
       "      <td>Just, 'cause, I don't want her to go through ...</td>\n",
       "    </tr>\n",
       "  </tbody>\n",
       "</table>\n",
       "</div>"
      ],
      "text/plain": [
       "   Unnamed: 0  Season  Episode  \\\n",
       "0           0       1      101   \n",
       "1           1       1      101   \n",
       "2           2       1      101   \n",
       "3           3       1      101   \n",
       "4           4       1      101   \n",
       "\n",
       "                                               Title Character  \\\n",
       "0  The One Where Monica Gets a New Roomate (The P...    Monica   \n",
       "1  The One Where Monica Gets a New Roomate (The P...      Joey   \n",
       "2  The One Where Monica Gets a New Roomate (The P...  Chandler   \n",
       "3  The One Where Monica Gets a New Roomate (The P...    Phoebe   \n",
       "4  The One Where Monica Gets a New Roomate (The P...    Phoebe   \n",
       "\n",
       "                                                Line  \\\n",
       "0   There's nothing to tell! He's just some guy I...   \n",
       "1   C'mon, you're going out with the guy! There's...   \n",
       "2   All right Joey, be nice.  So does he have a h...   \n",
       "3                           Wait, does he eat chalk?   \n",
       "4   Just, 'cause, I don't want her to go through ...   \n",
       "\n",
       "                                         Clean_Lines  \n",
       "0   There's nothing to tell! He's just some guy I...  \n",
       "1   C'mon, you're going out with the guy! There's...  \n",
       "2   All right Joey, be nice.  So does he have a h...  \n",
       "3                           Wait, does he eat chalk?  \n",
       "4   Just, 'cause, I don't want her to go through ...  "
      ]
     },
     "execution_count": 4,
     "metadata": {},
     "output_type": "execute_result"
    }
   ],
   "source": [
    "df.head()"
   ]
  },
  {
   "cell_type": "code",
   "execution_count": 5,
   "metadata": {},
   "outputs": [],
   "source": [
    "df.drop(axis=1, columns=['Unnamed: 0', 'Line'], inplace=True)"
   ]
  },
  {
   "cell_type": "code",
   "execution_count": 6,
   "metadata": {},
   "outputs": [
    {
     "data": {
      "text/html": [
       "<div>\n",
       "<style scoped>\n",
       "    .dataframe tbody tr th:only-of-type {\n",
       "        vertical-align: middle;\n",
       "    }\n",
       "\n",
       "    .dataframe tbody tr th {\n",
       "        vertical-align: top;\n",
       "    }\n",
       "\n",
       "    .dataframe thead th {\n",
       "        text-align: right;\n",
       "    }\n",
       "</style>\n",
       "<table border=\"1\" class=\"dataframe\">\n",
       "  <thead>\n",
       "    <tr style=\"text-align: right;\">\n",
       "      <th></th>\n",
       "      <th>Season</th>\n",
       "      <th>Episode</th>\n",
       "      <th>Title</th>\n",
       "      <th>Character</th>\n",
       "      <th>Clean_Lines</th>\n",
       "    </tr>\n",
       "  </thead>\n",
       "  <tbody>\n",
       "    <tr>\n",
       "      <th>0</th>\n",
       "      <td>1</td>\n",
       "      <td>101</td>\n",
       "      <td>The One Where Monica Gets a New Roomate (The P...</td>\n",
       "      <td>Monica</td>\n",
       "      <td>There's nothing to tell! He's just some guy I...</td>\n",
       "    </tr>\n",
       "    <tr>\n",
       "      <th>1</th>\n",
       "      <td>1</td>\n",
       "      <td>101</td>\n",
       "      <td>The One Where Monica Gets a New Roomate (The P...</td>\n",
       "      <td>Joey</td>\n",
       "      <td>C'mon, you're going out with the guy! There's...</td>\n",
       "    </tr>\n",
       "    <tr>\n",
       "      <th>2</th>\n",
       "      <td>1</td>\n",
       "      <td>101</td>\n",
       "      <td>The One Where Monica Gets a New Roomate (The P...</td>\n",
       "      <td>Chandler</td>\n",
       "      <td>All right Joey, be nice.  So does he have a h...</td>\n",
       "    </tr>\n",
       "    <tr>\n",
       "      <th>3</th>\n",
       "      <td>1</td>\n",
       "      <td>101</td>\n",
       "      <td>The One Where Monica Gets a New Roomate (The P...</td>\n",
       "      <td>Phoebe</td>\n",
       "      <td>Wait, does he eat chalk?</td>\n",
       "    </tr>\n",
       "    <tr>\n",
       "      <th>4</th>\n",
       "      <td>1</td>\n",
       "      <td>101</td>\n",
       "      <td>The One Where Monica Gets a New Roomate (The P...</td>\n",
       "      <td>Phoebe</td>\n",
       "      <td>Just, 'cause, I don't want her to go through ...</td>\n",
       "    </tr>\n",
       "  </tbody>\n",
       "</table>\n",
       "</div>"
      ],
      "text/plain": [
       "   Season  Episode                                              Title  \\\n",
       "0       1      101  The One Where Monica Gets a New Roomate (The P...   \n",
       "1       1      101  The One Where Monica Gets a New Roomate (The P...   \n",
       "2       1      101  The One Where Monica Gets a New Roomate (The P...   \n",
       "3       1      101  The One Where Monica Gets a New Roomate (The P...   \n",
       "4       1      101  The One Where Monica Gets a New Roomate (The P...   \n",
       "\n",
       "  Character                                        Clean_Lines  \n",
       "0    Monica   There's nothing to tell! He's just some guy I...  \n",
       "1      Joey   C'mon, you're going out with the guy! There's...  \n",
       "2  Chandler   All right Joey, be nice.  So does he have a h...  \n",
       "3    Phoebe                           Wait, does he eat chalk?  \n",
       "4    Phoebe   Just, 'cause, I don't want her to go through ...  "
      ]
     },
     "execution_count": 6,
     "metadata": {},
     "output_type": "execute_result"
    }
   ],
   "source": [
    "df.head()"
   ]
  },
  {
   "cell_type": "code",
   "execution_count": 30,
   "metadata": {},
   "outputs": [
    {
     "data": {
      "text/plain": [
       "True"
      ]
     },
     "execution_count": 30,
     "metadata": {},
     "output_type": "execute_result"
    }
   ],
   "source": [
    "'Rachel' in test.Clean_Lines.values[8]"
   ]
  },
  {
   "cell_type": "code",
   "execution_count": 17,
   "metadata": {},
   "outputs": [],
   "source": [
    "characters = {'Ross': ['Ross', 'ROSS', 'Ross ', 'Young Ross', 'ross'],\n",
    "              'Chandler': ['Chandler', 'Chan', 'CHAN', 'CHANDLER', 'chan', 'chandler'],\n",
    "        'Joey': ['Joey', 'JOEY', 'Fat Joey', 'Joe', 'Jo', 'joey', 'joe', 'jo'],\n",
    "        'Monica': ['Monica','MNCA', 'MONICA', 'MOnica', 'Young Monica', 'Mon', 'mon', 'monica'],\n",
    "        'Phoebe': ['French Phoebe', 'PHOE', 'PHOEBE', 'Phoebe', 'Phoebe ', 'Pheebs', 'pheebs', 'phoebe'],\n",
    "        'Rachel': ['RACH', 'RACHEL', 'Racel', 'Rache', 'Rachel', 'Rachel ', 'Rach', 'rachel', 'rach']}"
   ]
  },
  {
   "cell_type": "code",
   "execution_count": 10,
   "metadata": {},
   "outputs": [],
   "source": [
    "df_char_matrix = pd.DataFrame(columns=characters.keys())"
   ]
  },
  {
   "cell_type": "code",
   "execution_count": 11,
   "metadata": {},
   "outputs": [
    {
     "data": {
      "text/html": [
       "<div>\n",
       "<style scoped>\n",
       "    .dataframe tbody tr th:only-of-type {\n",
       "        vertical-align: middle;\n",
       "    }\n",
       "\n",
       "    .dataframe tbody tr th {\n",
       "        vertical-align: top;\n",
       "    }\n",
       "\n",
       "    .dataframe thead th {\n",
       "        text-align: right;\n",
       "    }\n",
       "</style>\n",
       "<table border=\"1\" class=\"dataframe\">\n",
       "  <thead>\n",
       "    <tr style=\"text-align: right;\">\n",
       "      <th></th>\n",
       "      <th>Ross</th>\n",
       "      <th>Chandler</th>\n",
       "      <th>Joey</th>\n",
       "      <th>Monica</th>\n",
       "      <th>Phoebe</th>\n",
       "      <th>Rachel</th>\n",
       "    </tr>\n",
       "  </thead>\n",
       "  <tbody>\n",
       "  </tbody>\n",
       "</table>\n",
       "</div>"
      ],
      "text/plain": [
       "Empty DataFrame\n",
       "Columns: [Ross, Chandler, Joey, Monica, Phoebe, Rachel]\n",
       "Index: []"
      ]
     },
     "execution_count": 11,
     "metadata": {},
     "output_type": "execute_result"
    }
   ],
   "source": [
    "df_char_matrix"
   ]
  },
  {
   "cell_type": "code",
   "execution_count": 21,
   "metadata": {},
   "outputs": [],
   "source": [
    "for i, line in enumerate(df.Clean_Lines):\n",
    "    for name in characters.keys():\n",
    "        for character in characters[name]:\n",
    "            if character.lower() in line.lower():\n",
    "                df_char_matrix.loc[i,name] = 1\n",
    "            else:\n",
    "                pass"
   ]
  },
  {
   "cell_type": "code",
   "execution_count": 22,
   "metadata": {},
   "outputs": [],
   "source": [
    "df_char_matrix = df_char_matrix.join(df.Character,how='left')"
   ]
  },
  {
   "cell_type": "code",
   "execution_count": 27,
   "metadata": {},
   "outputs": [
    {
     "data": {
      "text/html": [
       "<div>\n",
       "<style scoped>\n",
       "    .dataframe tbody tr th:only-of-type {\n",
       "        vertical-align: middle;\n",
       "    }\n",
       "\n",
       "    .dataframe tbody tr th {\n",
       "        vertical-align: top;\n",
       "    }\n",
       "\n",
       "    .dataframe thead th {\n",
       "        text-align: right;\n",
       "    }\n",
       "</style>\n",
       "<table border=\"1\" class=\"dataframe\">\n",
       "  <thead>\n",
       "    <tr style=\"text-align: right;\">\n",
       "      <th></th>\n",
       "      <th>Ross</th>\n",
       "      <th>Chandler</th>\n",
       "      <th>Joey</th>\n",
       "      <th>Monica</th>\n",
       "      <th>Phoebe</th>\n",
       "      <th>Rachel</th>\n",
       "    </tr>\n",
       "    <tr>\n",
       "      <th>Character</th>\n",
       "      <th></th>\n",
       "      <th></th>\n",
       "      <th></th>\n",
       "      <th></th>\n",
       "      <th></th>\n",
       "      <th></th>\n",
       "    </tr>\n",
       "  </thead>\n",
       "  <tbody>\n",
       "    <tr>\n",
       "      <th>Chandler</th>\n",
       "      <td>175</td>\n",
       "      <td>93</td>\n",
       "      <td>312</td>\n",
       "      <td>238</td>\n",
       "      <td>116</td>\n",
       "      <td>101</td>\n",
       "    </tr>\n",
       "    <tr>\n",
       "      <th>Joey</th>\n",
       "      <td>324</td>\n",
       "      <td>254</td>\n",
       "      <td>180</td>\n",
       "      <td>169</td>\n",
       "      <td>180</td>\n",
       "      <td>232</td>\n",
       "    </tr>\n",
       "    <tr>\n",
       "      <th>Monica</th>\n",
       "      <td>204</td>\n",
       "      <td>309</td>\n",
       "      <td>261</td>\n",
       "      <td>105</td>\n",
       "      <td>264</td>\n",
       "      <td>263</td>\n",
       "    </tr>\n",
       "    <tr>\n",
       "      <th>Phoebe</th>\n",
       "      <td>187</td>\n",
       "      <td>159</td>\n",
       "      <td>178</td>\n",
       "      <td>204</td>\n",
       "      <td>90</td>\n",
       "      <td>190</td>\n",
       "    </tr>\n",
       "    <tr>\n",
       "      <th>Rachel</th>\n",
       "      <td>516</td>\n",
       "      <td>170</td>\n",
       "      <td>425</td>\n",
       "      <td>317</td>\n",
       "      <td>304</td>\n",
       "      <td>90</td>\n",
       "    </tr>\n",
       "    <tr>\n",
       "      <th>Ross</th>\n",
       "      <td>104</td>\n",
       "      <td>169</td>\n",
       "      <td>237</td>\n",
       "      <td>224</td>\n",
       "      <td>190</td>\n",
       "      <td>374</td>\n",
       "    </tr>\n",
       "  </tbody>\n",
       "</table>\n",
       "</div>"
      ],
      "text/plain": [
       "           Ross  Chandler  Joey  Monica  Phoebe  Rachel\n",
       "Character                                              \n",
       "Chandler    175        93   312     238     116     101\n",
       "Joey        324       254   180     169     180     232\n",
       "Monica      204       309   261     105     264     263\n",
       "Phoebe      187       159   178     204      90     190\n",
       "Rachel      516       170   425     317     304      90\n",
       "Ross        104       169   237     224     190     374"
      ]
     },
     "execution_count": 27,
     "metadata": {},
     "output_type": "execute_result"
    }
   ],
   "source": [
    "char_matrix = df_char_matrix.groupby(by='Character', axis=0).sum()\n",
    "char_matrix"
   ]
  },
  {
   "cell_type": "markdown",
   "metadata": {},
   "source": [
    "Once you get the results, put them into a matrix to see who says the other person's name the most"
   ]
  },
  {
   "cell_type": "markdown",
   "metadata": {},
   "source": [
    "Plot via a network X graph \n",
    "- directed\n",
    "- weighted \n",
    "- use adjancey matrix\n",
    "- closeness centrality\n"
   ]
  },
  {
   "cell_type": "code",
   "execution_count": 24,
   "metadata": {},
   "outputs": [],
   "source": [
    "import numpy as np\n",
    "import matplotlib.pyplot as plt\n",
    "import networkx as nx\n",
    "plt.style.use('ggplot') \n",
    "%matplotlib inline\n",
    "%config InlineBackend.figure_format = 'retina'"
   ]
  },
  {
   "cell_type": "code",
   "execution_count": 33,
   "metadata": {},
   "outputs": [
    {
     "data": {
      "text/html": [
       "<div>\n",
       "<style scoped>\n",
       "    .dataframe tbody tr th:only-of-type {\n",
       "        vertical-align: middle;\n",
       "    }\n",
       "\n",
       "    .dataframe tbody tr th {\n",
       "        vertical-align: top;\n",
       "    }\n",
       "\n",
       "    .dataframe thead th {\n",
       "        text-align: right;\n",
       "    }\n",
       "</style>\n",
       "<table border=\"1\" class=\"dataframe\">\n",
       "  <thead>\n",
       "    <tr style=\"text-align: right;\">\n",
       "      <th></th>\n",
       "      <th>index</th>\n",
       "      <th>Character</th>\n",
       "      <th>Ross</th>\n",
       "      <th>Chandler</th>\n",
       "      <th>Joey</th>\n",
       "      <th>Monica</th>\n",
       "      <th>Phoebe</th>\n",
       "      <th>Rachel</th>\n",
       "    </tr>\n",
       "  </thead>\n",
       "  <tbody>\n",
       "    <tr>\n",
       "      <th>0</th>\n",
       "      <td>0</td>\n",
       "      <td>Chandler</td>\n",
       "      <td>175</td>\n",
       "      <td>93</td>\n",
       "      <td>312</td>\n",
       "      <td>238</td>\n",
       "      <td>116</td>\n",
       "      <td>101</td>\n",
       "    </tr>\n",
       "    <tr>\n",
       "      <th>1</th>\n",
       "      <td>1</td>\n",
       "      <td>Joey</td>\n",
       "      <td>324</td>\n",
       "      <td>254</td>\n",
       "      <td>180</td>\n",
       "      <td>169</td>\n",
       "      <td>180</td>\n",
       "      <td>232</td>\n",
       "    </tr>\n",
       "    <tr>\n",
       "      <th>2</th>\n",
       "      <td>2</td>\n",
       "      <td>Monica</td>\n",
       "      <td>204</td>\n",
       "      <td>309</td>\n",
       "      <td>261</td>\n",
       "      <td>105</td>\n",
       "      <td>264</td>\n",
       "      <td>263</td>\n",
       "    </tr>\n",
       "    <tr>\n",
       "      <th>3</th>\n",
       "      <td>3</td>\n",
       "      <td>Phoebe</td>\n",
       "      <td>187</td>\n",
       "      <td>159</td>\n",
       "      <td>178</td>\n",
       "      <td>204</td>\n",
       "      <td>90</td>\n",
       "      <td>190</td>\n",
       "    </tr>\n",
       "    <tr>\n",
       "      <th>4</th>\n",
       "      <td>4</td>\n",
       "      <td>Rachel</td>\n",
       "      <td>516</td>\n",
       "      <td>170</td>\n",
       "      <td>425</td>\n",
       "      <td>317</td>\n",
       "      <td>304</td>\n",
       "      <td>90</td>\n",
       "    </tr>\n",
       "    <tr>\n",
       "      <th>5</th>\n",
       "      <td>5</td>\n",
       "      <td>Ross</td>\n",
       "      <td>104</td>\n",
       "      <td>169</td>\n",
       "      <td>237</td>\n",
       "      <td>224</td>\n",
       "      <td>190</td>\n",
       "      <td>374</td>\n",
       "    </tr>\n",
       "  </tbody>\n",
       "</table>\n",
       "</div>"
      ],
      "text/plain": [
       "   index Character  Ross  Chandler  Joey  Monica  Phoebe  Rachel\n",
       "0      0  Chandler   175        93   312     238     116     101\n",
       "1      1      Joey   324       254   180     169     180     232\n",
       "2      2    Monica   204       309   261     105     264     263\n",
       "3      3    Phoebe   187       159   178     204      90     190\n",
       "4      4    Rachel   516       170   425     317     304      90\n",
       "5      5      Ross   104       169   237     224     190     374"
      ]
     },
     "execution_count": 33,
     "metadata": {},
     "output_type": "execute_result"
    }
   ],
   "source": [
    "char_matrix.reset_index(inplace=True)\n",
    "char_matrix"
   ]
  },
  {
   "cell_type": "code",
   "execution_count": 35,
   "metadata": {},
   "outputs": [],
   "source": [
    "df_multiplex = pd.melt(char_matrix, id_vars='Character')"
   ]
  },
  {
   "cell_type": "code",
   "execution_count": 37,
   "metadata": {},
   "outputs": [],
   "source": [
    "df_multi = df_multiplex[6:]"
   ]
  },
  {
   "cell_type": "code",
   "execution_count": 39,
   "metadata": {},
   "outputs": [
    {
     "data": {
      "text/html": [
       "<div>\n",
       "<style scoped>\n",
       "    .dataframe tbody tr th:only-of-type {\n",
       "        vertical-align: middle;\n",
       "    }\n",
       "\n",
       "    .dataframe tbody tr th {\n",
       "        vertical-align: top;\n",
       "    }\n",
       "\n",
       "    .dataframe thead th {\n",
       "        text-align: right;\n",
       "    }\n",
       "</style>\n",
       "<table border=\"1\" class=\"dataframe\">\n",
       "  <thead>\n",
       "    <tr style=\"text-align: right;\">\n",
       "      <th></th>\n",
       "      <th>Character</th>\n",
       "      <th>variable</th>\n",
       "      <th>value</th>\n",
       "    </tr>\n",
       "  </thead>\n",
       "  <tbody>\n",
       "    <tr>\n",
       "      <th>6</th>\n",
       "      <td>Chandler</td>\n",
       "      <td>Ross</td>\n",
       "      <td>175</td>\n",
       "    </tr>\n",
       "    <tr>\n",
       "      <th>7</th>\n",
       "      <td>Joey</td>\n",
       "      <td>Ross</td>\n",
       "      <td>324</td>\n",
       "    </tr>\n",
       "    <tr>\n",
       "      <th>8</th>\n",
       "      <td>Monica</td>\n",
       "      <td>Ross</td>\n",
       "      <td>204</td>\n",
       "    </tr>\n",
       "    <tr>\n",
       "      <th>9</th>\n",
       "      <td>Phoebe</td>\n",
       "      <td>Ross</td>\n",
       "      <td>187</td>\n",
       "    </tr>\n",
       "    <tr>\n",
       "      <th>10</th>\n",
       "      <td>Rachel</td>\n",
       "      <td>Ross</td>\n",
       "      <td>516</td>\n",
       "    </tr>\n",
       "  </tbody>\n",
       "</table>\n",
       "</div>"
      ],
      "text/plain": [
       "   Character variable  value\n",
       "6   Chandler     Ross    175\n",
       "7       Joey     Ross    324\n",
       "8     Monica     Ross    204\n",
       "9     Phoebe     Ross    187\n",
       "10    Rachel     Ross    516"
      ]
     },
     "execution_count": 39,
     "metadata": {},
     "output_type": "execute_result"
    }
   ],
   "source": [
    "df_multi.head()"
   ]
  },
  {
   "cell_type": "code",
   "execution_count": 38,
   "metadata": {},
   "outputs": [],
   "source": [
    "DG = nx.DiGraph()"
   ]
  },
  {
   "cell_type": "code",
   "execution_count": 40,
   "metadata": {},
   "outputs": [],
   "source": [
    "DG.add_weighted_edges_from(df_multi[['Character', 'variable','value']].values)"
   ]
  },
  {
   "cell_type": "code",
   "execution_count": 42,
   "metadata": {},
   "outputs": [],
   "source": [
    "DG.name = 'Friends Directed Graph'"
   ]
  },
  {
   "cell_type": "code",
   "execution_count": 43,
   "metadata": {},
   "outputs": [
    {
     "name": "stdout",
     "output_type": "stream",
     "text": [
      "Name: Friends Directed Graph\n",
      "Type: DiGraph\n",
      "Number of nodes: 6\n",
      "Number of edges: 36\n",
      "Average in degree:   6.0000\n",
      "Average out degree:   6.0000\n"
     ]
    }
   ],
   "source": [
    "print(nx.info(DG))"
   ]
  },
  {
   "cell_type": "code",
   "execution_count": 45,
   "metadata": {},
   "outputs": [],
   "source": [
    "from matplotlib import cm"
   ]
  },
  {
   "cell_type": "code",
   "execution_count": 51,
   "metadata": {},
   "outputs": [
    {
     "data": {
      "image/png": "[encoded data removed]",
      "text/plain": [
       "<Figure size 432x288 with 2 Axes>"
      ]
     },
     "metadata": {
      "image/png": {
       "height": 322,
       "width": 456
      }
     },
     "output_type": "display_data"
    }
   ],
   "source": [
    "positions = nx.circular_layout(DG)\n",
    "cmap_edges = cm.get_cmap('Spectral')\n",
    "edge_weights = df_multi.value.values\n",
    "\n",
    "nx.draw_spring(DG,node_color='grey',with_labels=True,\n",
    "        edge_color=edge_weights,edge_cmap=cmap_edges)\n",
    "\n",
    "# code for adding a colour bar, colour range normalised to [0,1]\n",
    "vmin = 0\n",
    "vmax = 1\n",
    "sm = plt.cm.ScalarMappable(cmap=cmap_edges, norm=plt.Normalize(vmin=vmin, vmax=vmax))\n",
    "sm._A = []\n",
    "plt.colorbar(sm)\n",
    "\n",
    "plt.show()"
   ]
  },
  {
   "cell_type": "code",
   "execution_count": 61,
   "metadata": {},
   "outputs": [
    {
     "data": {
      "text/plain": [
       "{('Chandler', 'Ross'): 0.03333333333333333,\n",
       " ('Chandler', 'Chandler'): 0.0,\n",
       " ('Chandler', 'Joey'): 0.03333333333333333,\n",
       " ('Chandler', 'Monica'): 0.03333333333333333,\n",
       " ('Chandler', 'Phoebe'): 0.03333333333333333,\n",
       " ('Chandler', 'Rachel'): 0.03333333333333333,\n",
       " ('Ross', 'Ross'): 0.0,\n",
       " ('Ross', 'Chandler'): 0.03333333333333333,\n",
       " ('Ross', 'Joey'): 0.03333333333333333,\n",
       " ('Ross', 'Monica'): 0.03333333333333333,\n",
       " ('Ross', 'Phoebe'): 0.03333333333333333,\n",
       " ('Ross', 'Rachel'): 0.03333333333333333,\n",
       " ('Joey', 'Ross'): 0.03333333333333333,\n",
       " ('Joey', 'Chandler'): 0.03333333333333333,\n",
       " ('Joey', 'Joey'): 0.0,\n",
       " ('Joey', 'Monica'): 0.03333333333333333,\n",
       " ('Joey', 'Phoebe'): 0.03333333333333333,\n",
       " ('Joey', 'Rachel'): 0.03333333333333333,\n",
       " ('Monica', 'Ross'): 0.03333333333333333,\n",
       " ('Monica', 'Chandler'): 0.03333333333333333,\n",
       " ('Monica', 'Joey'): 0.03333333333333333,\n",
       " ('Monica', 'Monica'): 0.0,\n",
       " ('Monica', 'Phoebe'): 0.03333333333333333,\n",
       " ('Monica', 'Rachel'): 0.03333333333333333,\n",
       " ('Phoebe', 'Ross'): 0.03333333333333333,\n",
       " ('Phoebe', 'Chandler'): 0.03333333333333333,\n",
       " ('Phoebe', 'Joey'): 0.03333333333333333,\n",
       " ('Phoebe', 'Monica'): 0.03333333333333333,\n",
       " ('Phoebe', 'Phoebe'): 0.0,\n",
       " ('Phoebe', 'Rachel'): 0.03333333333333333,\n",
       " ('Rachel', 'Ross'): 0.03333333333333333,\n",
       " ('Rachel', 'Chandler'): 0.03333333333333333,\n",
       " ('Rachel', 'Joey'): 0.03333333333333333,\n",
       " ('Rachel', 'Monica'): 0.03333333333333333,\n",
       " ('Rachel', 'Phoebe'): 0.03333333333333333,\n",
       " ('Rachel', 'Rachel'): 0.0}"
      ]
     },
     "execution_count": 61,
     "metadata": {},
     "output_type": "execute_result"
    }
   ],
   "source": [
    "nx.edge_betweenness_centrality(DG)"
   ]
  },
  {
   "cell_type": "code",
   "execution_count": 54,
   "metadata": {},
   "outputs": [
    {
     "data": {
      "text/plain": [
       "OutEdgeDataView([('Chandler', 'Ross', {'weight': 175}), ('Chandler', 'Chandler', {'weight': 93}), ('Chandler', 'Joey', {'weight': 312}), ('Chandler', 'Monica', {'weight': 238}), ('Chandler', 'Phoebe', {'weight': 116}), ('Chandler', 'Rachel', {'weight': 101}), ('Ross', 'Ross', {'weight': 104}), ('Ross', 'Chandler', {'weight': 169}), ('Ross', 'Joey', {'weight': 237}), ('Ross', 'Monica', {'weight': 224}), ('Ross', 'Phoebe', {'weight': 190}), ('Ross', 'Rachel', {'weight': 374}), ('Joey', 'Ross', {'weight': 324}), ('Joey', 'Chandler', {'weight': 254}), ('Joey', 'Joey', {'weight': 180}), ('Joey', 'Monica', {'weight': 169}), ('Joey', 'Phoebe', {'weight': 180}), ('Joey', 'Rachel', {'weight': 232}), ('Monica', 'Ross', {'weight': 204}), ('Monica', 'Chandler', {'weight': 309}), ('Monica', 'Joey', {'weight': 261}), ('Monica', 'Monica', {'weight': 105}), ('Monica', 'Phoebe', {'weight': 264}), ('Monica', 'Rachel', {'weight': 263}), ('Phoebe', 'Ross', {'weight': 187}), ('Phoebe', 'Chandler', {'weight': 159}), ('Phoebe', 'Joey', {'weight': 178}), ('Phoebe', 'Monica', {'weight': 204}), ('Phoebe', 'Phoebe', {'weight': 90}), ('Phoebe', 'Rachel', {'weight': 190}), ('Rachel', 'Ross', {'weight': 516}), ('Rachel', 'Chandler', {'weight': 170}), ('Rachel', 'Joey', {'weight': 425}), ('Rachel', 'Monica', {'weight': 317}), ('Rachel', 'Phoebe', {'weight': 304}), ('Rachel', 'Rachel', {'weight': 90})])"
      ]
     },
     "execution_count": 54,
     "metadata": {},
     "output_type": "execute_result"
    }
   ],
   "source": [
    "DG.edges(data=True)"
   ]
  },
  {
   "cell_type": "code",
   "execution_count": null,
   "metadata": {},
   "outputs": [],
   "source": []
  }
 ],
 "metadata": {
  "kernelspec": {
   "display_name": "Python 3",
   "language": "python",
   "name": "python3"
  },
  "language_info": {
   "codemirror_mode": {
    "name": "ipython",
    "version": 3
   },
   "file_extension": ".py",
   "mimetype": "text/x-python",
   "name": "python",
   "nbconvert_exporter": "python",
   "pygments_lexer": "ipython3",
   "version": "3.6.5"
  }
 },
 "nbformat": 4,
 "nbformat_minor": 2
}
